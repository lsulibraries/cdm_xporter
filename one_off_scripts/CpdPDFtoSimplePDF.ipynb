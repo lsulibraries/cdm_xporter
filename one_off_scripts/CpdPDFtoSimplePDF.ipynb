{
 "cells": [
  {
   "cell_type": "code",
   "execution_count": null,
   "metadata": {},
   "outputs": [],
   "source": [
    "import json\n",
    "import os\n",
    "import shutil\n",
    "import lxml.etree as ET"
   ]
  },
  {
   "cell_type": "code",
   "execution_count": null,
   "metadata": {},
   "outputs": [],
   "source": [
    "def extract_ptr_title(page_elem):\n",
    "    page_dict = {elem.tag: elem.text for elem in page_elem}\n",
    "    ptr, title = page_dict.get('pageptr'), page_dict.get('pagetitle')\n",
    "    return ptr, title"
   ]
  },
  {
   "cell_type": "code",
   "execution_count": null,
   "metadata": {},
   "outputs": [],
   "source": [
    "def parse_cpd_file(filepath):\n",
    "    etree = ET.parse(filepath)\n",
    "    page_pointers = [i for i in etree.findall('.//page')]\n",
    "    ptrs_titles = dict()\n",
    "    for page in page_pointers:\n",
    "        ptr, title = extract_ptr_title(page)\n",
    "        if ptr in ptrs_titles:\n",
    "            print('duplicate pointer', ptr)\n",
    "            return\n",
    "        ptrs_titles[ptr] = title\n",
    "    return ptrs_titles"
   ]
  },
  {
   "cell_type": "code",
   "execution_count": null,
   "metadata": {},
   "outputs": [],
   "source": [
    "parse_cpd_file('/media/francis/Storage/LNP_Source_datas/CachedCdmFiles/LSU_LNP/Cpd/5134_cpd.xml')"
   ]
  },
  {
   "cell_type": "code",
   "execution_count": null,
   "metadata": {},
   "outputs": [],
   "source": [
    "def gather_ptrs_titles(path):\n",
    "    file_dict = dict()\n",
    "    for root, dirs, files in os.walk(path):\n",
    "        for file in files:\n",
    "            if '_cpd.xml' in file:\n",
    "                for k, v in parse_cpd_file(os.path.join(root, file)).items():\n",
    "                    if file_dict.get(k):\n",
    "                        print('duplicate pointer', k)\n",
    "                        return\n",
    "                    file_dict[k] = v\n",
    "    return file_dict\n",
    "                    \n",
    "ptr_titles = gather_ptrs_titles('/media/francis/Storage/LNP_Source_datas/CachedCdmFiles/LSU_LNP/Cpd/')"
   ]
  },
  {
   "cell_type": "code",
   "execution_count": null,
   "metadata": {},
   "outputs": [],
   "source": [
    "def parse_json(filepath):\n",
    "    with open(filepath, 'r') as f:\n",
    "        cpd_metadata = json.loads(f.read())\n",
    "    return cpd_metadata\n",
    "\n",
    "cpd_metadata = parse_json('/media/francis/Storage/LNP_Source_datas/CachedCdmFiles/LSU_LNP/Cpd/5134.json')\n",
    "page_metadata = parse_json('/media/francis/Storage/LNP_Source_datas/CachedCdmFiles/LSU_LNP/Cpd/5134/5129.json')\n",
    "\n",
    "for k, v in cpd_metadata.items():\n",
    "    print(k, '\\t\\t', v)\n",
    "    \n",
    "# print('******\\n\\n')\n",
    "# for k, v in page_metadata.items():\n",
    "#     print(k, '\\t\\t', v)"
   ]
  },
  {
   "cell_type": "code",
   "execution_count": null,
   "metadata": {},
   "outputs": [],
   "source": [
    "def check_duplicates(cpd_metadata, page_metadata):\n",
    "    for k in cpd_metadata:\n",
    "        if page_metadata.get(k) and page_metadata[k] != cpd_metadata[k]:\n",
    "            if k in ('title', 'fullrs', 'find', 'dmrecord', 'cdmfilesize', 'cdmfilesizeformatted'):\n",
    "                continue\n",
    "            print(k, '\\t\\t', page_metadata[k])\n",
    "            return True\n",
    "    else:\n",
    "        return False"
   ]
  },
  {
   "cell_type": "code",
   "execution_count": null,
   "metadata": {},
   "outputs": [],
   "source": [
    "all_page_jsons = [\n",
    "    os.path.join(root, file)\n",
    "    for root, dirs, files in os.walk('/media/francis/Storage/LNP_Source_datas/CachedCdmFiles/LSU_LNP/Cpd/5134/')\n",
    "    for file in files\n",
    "    if ('.json' in file) and not('_parent.json' in file)]"
   ]
  },
  {
   "cell_type": "code",
   "execution_count": null,
   "metadata": {},
   "outputs": [],
   "source": [
    "for page in all_page_jsons:\n",
    "    check_duplicates(cpd_metadata, parse_json(page))"
   ]
  },
  {
   "cell_type": "code",
   "execution_count": null,
   "metadata": {},
   "outputs": [],
   "source": [
    "def merge(cpd_metadata, page_metadata):\n",
    "    new_dict = dict()\n",
    "    for k in cpd_metadata:\n",
    "        if page_metadata.get(k):\n",
    "            new_dict[k] = page_metadata[k]\n",
    "        else:\n",
    "            new_dict[k] = cpd_metadata[k]\n",
    "    return new_dict"
   ]
  },
  {
   "cell_type": "code",
   "execution_count": null,
   "metadata": {},
   "outputs": [],
   "source": [
    "# accepts cpd_subfolders like:  '/home/francis/Cached_Cdm_files/LSU_LNP/Cpd/5134/'\n",
    "\n",
    "def process_json(cpd_subfolder):\n",
    "    all_page_jsons = [\n",
    "        os.path.join(root, file)\n",
    "        for root, dirs, files in os.walk(cpd_subfolder)\n",
    "        for file in files\n",
    "        if ('.json' in file) and not('_parent.json' in file)\n",
    "    ]\n",
    "    for page in all_page_jsons:\n",
    "        root, filename = os.path.split(page)\n",
    "        cpd_root, cpd_ptr = os.path.split(root)\n",
    "        collection_root, _  = os.path.split(cpd_root)\n",
    "        cpd_metadata = parse_json(os.path.join(cpd_root, f\"{cpd_ptr}.json\"))\n",
    "        ptr, _ = os.path.splitext(filename)\n",
    "        merged_json = merge(cpd_metadata, parse_json(page))\n",
    "        with open(os.path.join(collection_root, f\"{ptr}.json\"), 'w') as f:\n",
    "            f.write(json.dumps(merged_json))\n",
    "        shutil.move(os.path.join(root, f\"{ptr}.pdf\"), os.path.join(collection_root, f\"{ptr}.pdf\"))\n",
    "        shutil.copy2(os.path.join(cpd_root, f\"{cpd_ptr}_parent.json\"), os.path.join(collection_root, f\"{ptr}_parent.json\"))\n",
    "        shutil.copy2(os.path.join(cpd_root, f\"{cpd_ptr}_parent.xml\"), os.path.join(collection_root, f\"{ptr}_parent.xml\"))\n",
    "    shutil.rmtree(cpd_subfolder)"
   ]
  },
  {
   "cell_type": "code",
   "execution_count": null,
   "metadata": {},
   "outputs": [],
   "source": [
    "process_json('/home/francis/Desktop/PagesToSimplesLSU_LNP/Cpd/5148')"
   ]
  },
  {
   "cell_type": "code",
   "execution_count": null,
   "metadata": {},
   "outputs": [],
   "source": [
    "for root, dirs, files in os.walk('/home/francis/Desktop/PagesToSimplesLSU_LNP/Cpd/'):\n",
    "    for subdir in dirs:\n",
    "        process_json(os.path.join(root, subdir))"
   ]
  },
  {
   "cell_type": "code",
   "execution_count": null,
   "metadata": {},
   "outputs": [],
   "source": []
  },
  {
   "cell_type": "code",
   "execution_count": null,
   "metadata": {},
   "outputs": [],
   "source": []
  },
  {
   "cell_type": "code",
   "execution_count": null,
   "metadata": {},
   "outputs": [],
   "source": []
  },
  {
   "cell_type": "code",
   "execution_count": null,
   "metadata": {},
   "outputs": [],
   "source": [
    "pointers = [\n",
    "    os.path.splitext(file)[0]\n",
    "    for file in os.listdir('/home/francis/Desktop/lsugit/cDM_to_mods/Cached_Cdm_files/LSU_LNP/')\n",
    "    if os.path.splitext(file)[1] == '.pdf'\n",
    "]\n",
    "\n",
    "\n",
    "template = f\"\"\"{{\"pager\":{{\"start\": \"1\", \"maxrecs\": \"100\", \"total\": {len(pointers)}}},\"records\": [\"\"\"\n",
    "for pointer in pointers:\n",
    "    template += f\"\"\"{{\"collection\": \"LSU_LNP\", \"pointer\": {pointer}, \"filetype\": \"pdf\", \"parentobject\": -1, \"dmrecord\": \"{pointer}\", \"find\": \"{pointer}.pdf\"}},\"\"\"\n",
    "template += \"]}\"\n",
    "print(template)"
   ]
  },
  {
   "cell_type": "code",
   "execution_count": null,
   "metadata": {},
   "outputs": [],
   "source": []
  }
 ],
 "metadata": {
  "kernelspec": {
   "display_name": "Python 3",
   "language": "python",
   "name": "python3"
  },
  "language_info": {
   "codemirror_mode": {
    "name": "ipython",
    "version": 3
   },
   "file_extension": ".py",
   "mimetype": "text/x-python",
   "name": "python",
   "nbconvert_exporter": "python",
   "pygments_lexer": "ipython3",
   "version": "3.6.8"
  }
 },
 "nbformat": 4,
 "nbformat_minor": 2
}
